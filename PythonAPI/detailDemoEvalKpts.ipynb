{
 "cells": [
  {
   "cell_type": "code",
   "execution_count": 1,
   "metadata": {
    "collapsed": true
   },
   "outputs": [],
   "source": [
    "%matplotlib inline\n",
    "from detail import Detail\n",
    "import numpy as np\n",
    "import skimage.io as io\n",
    "import matplotlib.pyplot as plt\n",
    "import os\n",
    "import pylab\n",
    "import json\n",
    "import random\n",
    "pylab.rcParams['figure.figsize'] = (10.0, 8.0)"
   ]
  },
  {
   "cell_type": "code",
   "execution_count": 2,
   "metadata": {
    "collapsed": true
   },
   "outputs": [],
   "source": [
    "annFile='../../json/PASCAL_trainval_mergedv3.json' # annotations\n",
    "imgDir='../../VOCdevkit/VOC2010/JPEGImages' # jpeg images\n",
    "phase='trainval'"
   ]
  },
  {
   "cell_type": "code",
   "execution_count": 20,
   "metadata": {},
   "outputs": [
    {
     "name": "stdout",
     "output_type": "stream",
     "text": [
      "{'image_id': 2008000003, 'score': 1, 'category_id': 284, 'keypoints': [0, 0, 0, 80.9, 193.2, 1, 0, 0, 0, 0, 0, 0, 0, 0, 0, 70.2, 212.4, 1, 70.9, 226.6, 1, 67.4, 237.3, 1, 0, 0, 0, 0, 0, 0, 0, 0, 0, 74.8, 213.2, 1, 81.5, 226.4, 1, 80.6, 238.7, 1], 'id': 0}\n"
     ]
    }
   ],
   "source": [
    "#anns = json.load(open(annFile, 'r'))\n",
    "#print(anns.keys())\n",
    "\n",
    "# imgs = detailsGt.getImgs(cats=['person']);\n",
    "\n",
    "#print(imgs[0].keys())\n",
    "#print(imgs[0]['keypoints'])\n",
    "print(detaileval.results[0])\n",
    "# print(detailsGt.data['images'][1])"
   ]
  },
  {
   "cell_type": "code",
   "execution_count": 3,
   "metadata": {},
   "outputs": [
    {
     "name": "stdout",
     "output_type": "stream",
     "text": [
      "loading annotations into memory...\n",
      "Done (t=7.68s)\n",
      "creating index...\n",
      "index created! 6.47s\n",
      "\n",
      "***info***\n",
      "description: This is the 3.0 version of the CVPR 2017 PASCAL in Detail dataset.\n",
      "version: 3.0\n",
      "year: 2017\n",
      "contributor: https://sites.google.com/view/pasd\n",
      "date_created: 2017-07-18\n"
     ]
    }
   ],
   "source": [
    "# initialize detail api for instance annotations\n",
    "detailsGt = Detail(annFile, imgDir, phase)\n",
    "\n",
    "print('\\n***info***')\n",
    "detailsGt.info()"
   ]
  },
  {
   "cell_type": "markdown",
   "metadata": {},
   "source": [
    "## Load eval module for keypoints"
   ]
  },
  {
   "cell_type": "code",
   "execution_count": 23,
   "metadata": {},
   "outputs": [
    {
     "name": "stdout",
     "output_type": "stream",
     "text": [
      "Total category #1, total img #3547 \n"
     ]
    }
   ],
   "source": [
    "from detail import detaileval_kpt\n",
    "from importlib import reload\n",
    "reload(detaileval_kpt)\n",
    "detaileval = detaileval_kpt.DetailEvalKpt(detailsGt)"
   ]
  },
  {
   "cell_type": "markdown",
   "metadata": {},
   "source": [
    "## Fake a result json for evaluation"
   ]
  },
  {
   "cell_type": "code",
   "execution_count": 108,
   "metadata": {
    "collapsed": true
   },
   "outputs": [],
   "source": [
    "gt_imgs_human = detailsGt.getImgs(cats=['person']);\n",
    "detailRes = []\n",
    "count = 0\n",
    "for gt_img in gt_imgs_human:\n",
    "    '''\n",
    "    if(2 in gt_img['categories']):\n",
    "        detailRes[-1]['category_score'][0] = 1\n",
    "    if(23 in gt_img['categories'] and count < 200):\n",
    "        count += 1\n",
    "        detailRes[-1]['category_score'][1] = 1\n",
    "    '''\n",
    "    for k in gt_img['keypoints']:\n",
    "        detailRes.append(\n",
    "            {'image_id': gt_img['image_id'], \n",
    "             'score': 1, \n",
    "             'category_id': 284,\n",
    "             'keypoints': np.ndarray.tolist(np.zeros(42))})\n",
    "        detailRes[-1]['keypoints'] = k['keypoints']\n",
    "        #cat_idx = [k]\n",
    "        #detailRes[-1]['category_score'][cat_idx] = 1\n",
    "    \n",
    "result = {}\n",
    "result['pred'] = detailRes\n",
    "detail_res_file = '../results/detail_kpt_fake_result.json'\n",
    "json.dump(result, open(detail_res_file, 'w'), indent = 4)"
   ]
  },
  {
   "cell_type": "code",
   "execution_count": 117,
   "metadata": {},
   "outputs": [
    {
     "name": "stdout",
     "output_type": "stream",
     "text": [
      "Total category #1, total img #3547 \n"
     ]
    }
   ],
   "source": [
    "# start evaluation\n",
    "from detail import detaileval_kpt\n",
    "detaileval = detaileval_kpt.DetailEvalKpt(detailsGt)\n",
    "detailRes = json.load(open('../results/detail_kpt_fake_result.json', 'r'))['pred']\n",
    "detaileval.loadRes(detailRes)"
   ]
  },
  {
   "cell_type": "code",
   "execution_count": 118,
   "metadata": {},
   "outputs": [
    {
     "name": "stdout",
     "output_type": "stream",
     "text": [
      "DONE (t=2.26s).\n"
     ]
    }
   ],
   "source": [
    "detaileval.evaluate()"
   ]
  },
  {
   "cell_type": "code",
   "execution_count": 119,
   "metadata": {},
   "outputs": [
    {
     "name": "stdout",
     "output_type": "stream",
     "text": [
      "Accumulating evaluation results...\n",
      "DONE (t=0.11s).\n"
     ]
    }
   ],
   "source": [
    "detaileval.accumulate()"
   ]
  },
  {
   "cell_type": "code",
   "execution_count": 120,
   "metadata": {},
   "outputs": [
    {
     "name": "stdout",
     "output_type": "stream",
     "text": [
      " Average Precision  (AP) @[ IoU=0.50:0.95 | area=   all | maxDets= 20 ] = 0.990\n",
      " Average Precision  (AP) @[ IoU=0.50      | area=   all | maxDets= 20 ] = 0.990\n",
      " Average Precision  (AP) @[ IoU=0.75      | area=   all | maxDets= 20 ] = 0.990\n",
      " Average Precision  (AP) @[ IoU=0.50:0.95 | area=medium | maxDets= 20 ] = 0.962\n",
      " Average Precision  (AP) @[ IoU=0.50:0.95 | area= large | maxDets= 20 ] = 0.989\n",
      " Average Recall     (AR) @[ IoU=0.50:0.95 | area=   all | maxDets= 20 ] = 1.000\n",
      " Average Recall     (AR) @[ IoU=0.50      | area=   all | maxDets= 20 ] = 1.000\n",
      " Average Recall     (AR) @[ IoU=0.75      | area=   all | maxDets= 20 ] = 1.000\n",
      " Average Recall     (AR) @[ IoU=0.50:0.95 | area=medium | maxDets= 20 ] = 1.000\n",
      " Average Recall     (AR) @[ IoU=0.50:0.95 | area= large | maxDets= 20 ] = 1.000\n"
     ]
    }
   ],
   "source": [
    "detaileval.summarize()"
   ]
  },
  {
   "cell_type": "code",
   "execution_count": null,
   "metadata": {
    "collapsed": true
   },
   "outputs": [],
   "source": []
  }
 ],
 "metadata": {
  "kernelspec": {
   "display_name": "py36-test",
   "language": "python",
   "name": "py36-test"
  },
  "language_info": {
   "codemirror_mode": {
    "name": "ipython",
    "version": 3
   },
   "file_extension": ".py",
   "mimetype": "text/x-python",
   "name": "python",
   "nbconvert_exporter": "python",
   "pygments_lexer": "ipython3",
   "version": "3.6.1"
  }
 },
 "nbformat": 4,
 "nbformat_minor": 2
}
